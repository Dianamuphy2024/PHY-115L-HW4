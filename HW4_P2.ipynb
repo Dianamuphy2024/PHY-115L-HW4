{
 "cells": [
  {
   "cell_type": "code",
   "execution_count": 45,
   "id": "e1c98611",
   "metadata": {},
   "outputs": [],
   "source": [
    "import numpy as np\n",
    "import matplotlib.pyplot as plt\n",
    "import math\n",
    "import scipy\n",
    "from cmath import sqrt"
   ]
  },
  {
   "cell_type": "code",
   "execution_count": 46,
   "id": "b73c168f",
   "metadata": {},
   "outputs": [],
   "source": [
    "def norm(x,y):\n",
    "    length = x[1] - x[0]\n",
    "    integrand = y**2\n",
    "    norm = np.sum(integrand)*length\n",
    "    return y/(sqrt(norm))"
   ]
  },
  {
   "cell_type": "code",
   "execution_count": 47,
   "id": "cf5c8c90",
   "metadata": {},
   "outputs": [
    {
     "name": "stdout",
     "output_type": "stream",
     "text": [
      "(1.0000000000000002+0j)\n"
     ]
    }
   ],
   "source": [
    "x = np.linspace(-10,10,100)\n",
    "y = np.random.uniform(np.size(x))\n",
    "y=norm(x,y)\n",
    "print(np.sum(y*y) * (x[1]-x[0]))"
   ]
  },
  {
   "cell_type": "code",
   "execution_count": null,
   "id": "4e2f402e",
   "metadata": {},
   "outputs": [],
   "source": []
  }
 ],
 "metadata": {
  "kernelspec": {
   "display_name": "Python 3 (ipykernel)",
   "language": "python",
   "name": "python3"
  },
  "language_info": {
   "codemirror_mode": {
    "name": "ipython",
    "version": 3
   },
   "file_extension": ".py",
   "mimetype": "text/x-python",
   "name": "python",
   "nbconvert_exporter": "python",
   "pygments_lexer": "ipython3",
   "version": "3.10.11"
  }
 },
 "nbformat": 4,
 "nbformat_minor": 5
}
