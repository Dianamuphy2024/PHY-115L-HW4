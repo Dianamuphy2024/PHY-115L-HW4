{
 "cells": [
  {
   "cell_type": "code",
   "execution_count": 14,
   "id": "f2db82b9",
   "metadata": {},
   "outputs": [
    {
     "name": "stdout",
     "output_type": "stream",
     "text": [
      "%pylab is deprecated, use %matplotlib inline and import the required libraries.\n",
      "Populating the interactive namespace from numpy and matplotlib\n"
     ]
    }
   ],
   "source": [
    "%pylab inline"
   ]
  },
  {
   "cell_type": "code",
   "execution_count": 15,
   "id": "8b378b80",
   "metadata": {},
   "outputs": [],
   "source": [
    "def V(x):\n",
    "    if -1<= x <=1:\n",
    "        return 0\n",
    "    else:\n",
    "        return 1000"
   ]
  },
  {
   "cell_type": "code",
   "execution_count": 16,
   "id": "bd04ca3a",
   "metadata": {},
   "outputs": [],
   "source": [
    "#Second derivative\n",
    "def dev(x,y):\n",
    "    h = x[1] - x[0]\n",
    "    dev = np.zeros_like(y)\n",
    "    dev[1:-1] = (y[2:]-2*y[1:-1]+y[:-2])/h**2\n",
    "    return dev"
   ]
  },
  {
   "cell_type": "code",
   "execution_count": 17,
   "id": "bae27aff",
   "metadata": {},
   "outputs": [],
   "source": [
    "def norm(x,y):\n",
    "    length = x[1] - x[0]\n",
    "    integrand = y**2\n",
    "    norm = np.sum(integrand)*length\n",
    "    return y/(sqrt(norm))"
   ]
  },
  {
   "cell_type": "code",
   "execution_count": 40,
   "id": "0c02f075",
   "metadata": {},
   "outputs": [],
   "source": [
    "def energy(x,y,V):\n",
    "    #H = p^2/2m\n",
    "    kinetic = dev(x,y)\n",
    "    potential = V(x)*y\n",
    "    energy = -kinetic + potential \n",
    "    return np.sum(energy*y*h)"
   ]
  },
  {
   "cell_type": "code",
   "execution_count": 37,
   "id": "1ab9e91d",
   "metadata": {},
   "outputs": [],
   "source": [
    "def variational(x,y,V,dy,n):\n",
    "    y = norm(x,y)\n",
    "    for _ in range(n): #_ means loop counter is not used in the loop\n",
    "        selection = np.random.randint(1, len(x)-1)\n",
    "        deltay = np.random.uniform(-dy, dy)\n",
    "        y_new = y.copy()\n",
    "        y_new[selection] += deltay\n",
    "        y_new = norm(x, y_new)\n",
    "        if energy(x, y_new, V) < energy(x, y, V):\n",
    "            y = y_new\n",
    "    return y"
   ]
  },
  {
   "cell_type": "code",
   "execution_count": 38,
   "id": "ed9a629f",
   "metadata": {},
   "outputs": [],
   "source": [
    "x = np.linspace(-1.2,1.2,50)\n",
    "yi = np.zeros(x.size)\n",
    "yi[np.abs(x)<0.8] = 1\n",
    "y = norm(x,yi)"
   ]
  },
  {
   "cell_type": "code",
   "execution_count": 39,
   "id": "63f46a94",
   "metadata": {},
   "outputs": [
    {
     "ename": "TypeError",
     "evalue": "unsupported operand type(s) for *: 'function' and 'float'",
     "output_type": "error",
     "traceback": [
      "\u001b[0;31m---------------------------------------------------------------------------\u001b[0m",
      "\u001b[0;31mTypeError\u001b[0m                                 Traceback (most recent call last)",
      "Cell \u001b[0;32mIn[39], line 1\u001b[0m\n\u001b[0;32m----> 1\u001b[0m y1 \u001b[38;5;241m=\u001b[39m \u001b[43mvariational\u001b[49m\u001b[43m(\u001b[49m\u001b[43mx\u001b[49m\u001b[43m,\u001b[49m\u001b[43m \u001b[49m\u001b[43my\u001b[49m\u001b[43m,\u001b[49m\u001b[43m \u001b[49m\u001b[43mV\u001b[49m\u001b[43m,\u001b[49m\u001b[43m \u001b[49m\u001b[38;5;241;43m0.1\u001b[39;49m\u001b[43m,\u001b[49m\u001b[43m \u001b[49m\u001b[38;5;241;43m10000\u001b[39;49m\u001b[43m)\u001b[49m\n\u001b[1;32m      2\u001b[0m y2 \u001b[38;5;241m=\u001b[39m variational(x, y1, V, \u001b[38;5;241m0.01\u001b[39m, \u001b[38;5;241m10000\u001b[39m)\n\u001b[1;32m      3\u001b[0m y3 \u001b[38;5;241m=\u001b[39m variational(x, y2, V, \u001b[38;5;241m0.001\u001b[39m, \u001b[38;5;241m10000\u001b[39m)\n",
      "Cell \u001b[0;32mIn[37], line 9\u001b[0m, in \u001b[0;36mvariational\u001b[0;34m(x, y, V, dy, n)\u001b[0m\n\u001b[1;32m      7\u001b[0m     y_new[selection] \u001b[38;5;241m+\u001b[39m\u001b[38;5;241m=\u001b[39m deltay\n\u001b[1;32m      8\u001b[0m     y_new \u001b[38;5;241m=\u001b[39m norm(x, y_new)\n\u001b[0;32m----> 9\u001b[0m     \u001b[38;5;28;01mif\u001b[39;00m \u001b[43menergy\u001b[49m\u001b[43m(\u001b[49m\u001b[43mx\u001b[49m\u001b[43m,\u001b[49m\u001b[43m \u001b[49m\u001b[43my_new\u001b[49m\u001b[43m,\u001b[49m\u001b[43m \u001b[49m\u001b[43mV\u001b[49m\u001b[43m)\u001b[49m \u001b[38;5;241m<\u001b[39m energy(x, y, V):\n\u001b[1;32m     10\u001b[0m         y \u001b[38;5;241m=\u001b[39m y_new\n\u001b[1;32m     11\u001b[0m \u001b[38;5;28;01mreturn\u001b[39;00m y\n",
      "Cell \u001b[0;32mIn[36], line 4\u001b[0m, in \u001b[0;36menergy\u001b[0;34m(x, y, V)\u001b[0m\n\u001b[1;32m      1\u001b[0m \u001b[38;5;28;01mdef\u001b[39;00m \u001b[38;5;21menergy\u001b[39m(x,y,V):\n\u001b[1;32m      2\u001b[0m     \u001b[38;5;66;03m#H = p^2/2m\u001b[39;00m\n\u001b[1;32m      3\u001b[0m     kinetic \u001b[38;5;241m=\u001b[39m dev(x,y)\n\u001b[0;32m----> 4\u001b[0m     potential \u001b[38;5;241m=\u001b[39m \u001b[43mV\u001b[49m\u001b[38;5;241;43m*\u001b[39;49m\u001b[43my\u001b[49m\n\u001b[1;32m      5\u001b[0m     energy \u001b[38;5;241m=\u001b[39m \u001b[38;5;241m-\u001b[39mkinetic \u001b[38;5;241m+\u001b[39m potential \n\u001b[1;32m      6\u001b[0m     \u001b[38;5;28;01mreturn\u001b[39;00m np\u001b[38;5;241m.\u001b[39msum(energy\u001b[38;5;241m*\u001b[39my\u001b[38;5;241m*\u001b[39mh)\n",
      "\u001b[0;31mTypeError\u001b[0m: unsupported operand type(s) for *: 'function' and 'float'"
     ]
    }
   ],
   "source": [
    "y1 = variational(x, y, V, 0.1, 10000)\n",
    "y2 = variational(x, y1, V, 0.01, 10000)\n",
    "y3 = variational(x, y2, V, 0.001, 10000)"
   ]
  },
  {
   "cell_type": "code",
   "execution_count": null,
   "id": "a3a5c219",
   "metadata": {},
   "outputs": [],
   "source": []
  }
 ],
 "metadata": {
  "kernelspec": {
   "display_name": "Python 3 (ipykernel)",
   "language": "python",
   "name": "python3"
  },
  "language_info": {
   "codemirror_mode": {
    "name": "ipython",
    "version": 3
   },
   "file_extension": ".py",
   "mimetype": "text/x-python",
   "name": "python",
   "nbconvert_exporter": "python",
   "pygments_lexer": "ipython3",
   "version": "3.10.11"
  }
 },
 "nbformat": 4,
 "nbformat_minor": 5
}
