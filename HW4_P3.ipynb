{
 "cells": [
  {
   "cell_type": "code",
   "execution_count": 1,
   "id": "5a156137",
   "metadata": {},
   "outputs": [],
   "source": [
    "import numpy as np\n",
    "import math"
   ]
  },
  {
   "cell_type": "code",
   "execution_count": 54,
   "id": "36baeaa8",
   "metadata": {},
   "outputs": [
    {
     "name": "stdout",
     "output_type": "stream",
     "text": [
      "%pylab is deprecated, use %matplotlib inline and import the required libraries.\n",
      "Populating the interactive namespace from numpy and matplotlib\n"
     ]
    },
    {
     "name": "stderr",
     "output_type": "stream",
     "text": [
      "/Users/shixinmu/anaconda3/lib/python3.10/site-packages/IPython/core/magics/pylab.py:162: UserWarning: pylab import has clobbered these variables: ['norm']\n",
      "`%matplotlib` prevents importing * from pylab and numpy\n",
      "  warn(\"pylab import has clobbered these variables: %s\"  % clobbered +\n"
     ]
    }
   ],
   "source": [
    "%pylab inline"
   ]
  },
  {
   "cell_type": "code",
   "execution_count": 58,
   "id": "05992504",
   "metadata": {},
   "outputs": [],
   "source": [
    "#Second derivative\n",
    "h = x[1] - x[0]\n",
    "def dev(x,y):\n",
    "    dev = np.zeros_like(y)\n",
    "    dev[1:-1] = (y[2:]-2*y[1:-1]+y[:-2])/h**2\n",
    "    return dev"
   ]
  },
  {
   "cell_type": "code",
   "execution_count": 59,
   "id": "271a632e",
   "metadata": {},
   "outputs": [],
   "source": [
    "def norm(x,y):\n",
    "    length = x[1] - x[0]\n",
    "    integrand = y**2\n",
    "    norm = np.sum(integrand)*length\n",
    "    return y/(sqrt(norm))"
   ]
  },
  {
   "cell_type": "code",
   "execution_count": 60,
   "id": "b85bf1ef",
   "metadata": {},
   "outputs": [],
   "source": [
    "#Consider y as wavefunction \n",
    "\n",
    "def energy(x,y,V):\n",
    "    #H = p^2/2m\n",
    "    kinetic = dev(x,y)\n",
    "    potential = V(x)*y\n",
    "\n",
    "    energy = -kinetic + potential \n",
    "    return np.sum(energy*y*h)"
   ]
  },
  {
   "cell_type": "code",
   "execution_count": 61,
   "id": "2d3598ed",
   "metadata": {},
   "outputs": [
    {
     "name": "stdout",
     "output_type": "stream",
     "text": [
      "calculated energy:  12.467350265169495\n",
      "expected energy:  12.46740110027234\n"
     ]
    }
   ],
   "source": [
    "# free particle energy check:\n",
    "OFFSET = 10 \n",
    "def V(x):\n",
    "    return OFFSET\n",
    "x = np.linspace(-5,5,1000)\n",
    "y = cos(np.pi*x/2)\n",
    "y = norm(x,y)\n",
    "print(\"calculated energy: \", energy(x,y,V)) \n",
    "print(\"expected energy: \", OFFSET+pi**2/4)"
   ]
  },
  {
   "cell_type": "code",
   "execution_count": null,
   "id": "442d79fa",
   "metadata": {},
   "outputs": [],
   "source": []
  },
  {
   "cell_type": "code",
   "execution_count": null,
   "id": "2fd5d57a",
   "metadata": {},
   "outputs": [],
   "source": []
  }
 ],
 "metadata": {
  "kernelspec": {
   "display_name": "Python 3 (ipykernel)",
   "language": "python",
   "name": "python3"
  },
  "language_info": {
   "codemirror_mode": {
    "name": "ipython",
    "version": 3
   },
   "file_extension": ".py",
   "mimetype": "text/x-python",
   "name": "python",
   "nbconvert_exporter": "python",
   "pygments_lexer": "ipython3",
   "version": "3.10.11"
  }
 },
 "nbformat": 4,
 "nbformat_minor": 5
}
